{
 "cells": [
  {
   "cell_type": "markdown",
   "metadata": {},
   "source": [
    "# Практическая работа. Урок 2."
   ]
  },
  {
   "cell_type": "code",
   "execution_count": 47,
   "metadata": {},
   "outputs": [
    {
     "name": "stdout",
     "output_type": "stream",
     "text": [
      "debug.log\n",
      "file.yaml\n",
      "info_1.txt\n",
      "info_2.txt\n",
      "info_3.txt\n",
      "orders.json\n",
      "Practice_Lesson1.ipynb\n",
      "Practice_Lesson2.ipynb\n",
      "report.csv\n",
      "report_lesson2.csv\n",
      "test_file.txt\n",
      "Practice_Lesson1-checkpoint.ipynb\n",
      "Practice_Lesson2-checkpoint.ipynb\n"
     ]
    }
   ],
   "source": [
    "import os\n",
    "import re\n",
    "import csv\n",
    "import json\n",
    "import yaml\n",
    "\n",
    "import warnings\n",
    "warnings.filterwarnings(\"ignore\")\n",
    "\n",
    "for root, dirs, files in os.walk(\".\"):  \n",
    "    for filename in files:\n",
    "        print(filename)"
   ]
  },
  {
   "cell_type": "markdown",
   "metadata": {},
   "source": [
    "Задание на закрепление знаний по модулю CSV. Написать скрипт, осуществляющий выборку определенных данных из файлов info_1.txt, info_2.txt, info_3.txt и формирующий новый «отчетный» файл в формате CSV. Для этого:\n",
    "1. Создать функцию get_data(), в которой в цикле осуществляется перебор файлов с данными, их открытие и считывание данных. В этой функции из считанных данных необходимо с помощью регулярных выражений извлечь значения параметров «Изготовитель системы», «Название ОС», «Код продукта», «Тип системы». Значения каждого параметра поместить в соответствующий список. Должно получиться четыре списка — например, os_prod_list, os_name_list, os_code_list, os_type_list. В этой же функции создать главный список для хранения данных отчета — например, main_data — и поместить в него названия столбцов отчета в виде списка: «Изготовитель системы», «Название ОС», «Код продукта», «Тип системы». Значения для этих столбцов также оформить в виде списка и поместить в файл main_data (также для каждого файла);\n",
    "2. Создать функцию write_to_csv(), в которую передавать ссылку на CSV-файл. В этой функции реализовать получение данных через вызов функции get_data(), а также сохранение подготовленных данных в соответствующий CSV-файл;\n",
    "3. Проверить работу программы через вызов функции write_to_csv()."
   ]
  },
  {
   "cell_type": "code",
   "execution_count": 48,
   "metadata": {},
   "outputs": [],
   "source": [
    "file_list = ['info_1.txt', 'info_2.txt', 'info_3.txt ']\n",
    "\n",
    "def get_data(file_list):\n",
    "    os_prod_list , os_name_list , os_code_list , os_type_list = [],[],[],[]\n",
    "    column_name = ['Изготовитель системы', 'Название ОС','Код продукта','Тип системы']\n",
    "    main_list = [os_prod_list , os_name_list , os_code_list , os_type_list]\n",
    "    for i in file_list:\n",
    "        my_file = open(i, \"r\",encoding='CP1251')\n",
    "        text_spam = my_file.read()\n",
    "        for j,k in enumerate(main_list):\n",
    "            k.append(re.sub(r\"^\\s+\", \"\", re.search(f'{column_name[j]}:(.*)', text_spam).group(1)))\n",
    "        my_file.close()\n",
    "    main_data = [column_name] + [list(i) for i in zip(*main_list)]\n",
    "    return main_data"
   ]
  },
  {
   "cell_type": "code",
   "execution_count": 49,
   "metadata": {},
   "outputs": [],
   "source": [
    "def write_to_csv(data):\n",
    "    with open('report_lesson2.csv', 'w', encoding = 'utf-8' ) as report:\n",
    "        report_writer = csv.writer(report, quoting=csv.QUOTE_NONNUMERIC)\n",
    "        report_writer.writerows(data)"
   ]
  },
  {
   "cell_type": "code",
   "execution_count": 50,
   "metadata": {},
   "outputs": [
    {
     "name": "stdout",
     "output_type": "stream",
     "text": [
      "\"Изготовитель системы\",\"Название ОС\",\"Код продукта\",\"Тип системы\"\n",
      "\n",
      "\"LENOVO\",\"Microsoft Windows 7 Профессиональная \",\"00971-OEM-1982661-00231\",\"x64-based PC\"\n",
      "\n",
      "\"ACER\",\"Microsoft Windows 10 Professional\",\"00971-OEM-1982661-00231\",\"x64-based PC\"\n",
      "\n",
      "\"DELL\",\"Microsoft Windows 8.1 Professional\",\"00971-OEM-1982661-00231\",\"x86-based PC\"\n",
      "\n",
      "\n"
     ]
    }
   ],
   "source": [
    "write_to_csv(get_data(file_list))\n",
    "\n",
    "with open('report_lesson2.csv','r',encoding = 'utf-8' ) as f_n:\n",
    "    print(f_n.read())"
   ]
  },
  {
   "cell_type": "markdown",
   "metadata": {},
   "source": [
    "Задание на закрепление знаний по модулю json. Есть файл orders в формате JSON с информацией о заказах. Написать скрипт, автоматизирующий его заполнение данными. Для этого:\n",
    "1. Создать функцию write_order_to_json(), в которую передается 5 параметров — товар (item), количество (quantity), цена (price), покупатель (buyer), дата (date). Функция должна предусматривать запись данных в виде словаря в файл orders.json. При записи данных указать величину отступа в 4 пробельных символа;\n",
    "2. Проверить работу программы через вызов функции write_order_to_json() с передачей в нее значений каждого параметра."
   ]
  },
  {
   "cell_type": "code",
   "execution_count": 51,
   "metadata": {},
   "outputs": [],
   "source": [
    "def write_order_to_json(item, quantity, price, buyer, date):\n",
    "    dict_to_json = {\n",
    "        \"item\": item,\n",
    "        \"quantity\": quantity,\n",
    "        \"price\": price,\n",
    "        \"buyer\": buyer,\n",
    "        \"date\": date\n",
    "    }\n",
    "    with open('orders.json', 'w') as to_write:\n",
    "        json.dump(dict_to_json, to_write, indent=4)\n"
   ]
  },
  {
   "cell_type": "code",
   "execution_count": 52,
   "metadata": {},
   "outputs": [
    {
     "name": "stdout",
     "output_type": "stream",
     "text": [
      "{\n",
      "    \"item\": \"RED HAT\",\n",
      "    \"quantity\": 1,\n",
      "    \"price\": 34000000000,\n",
      "    \"buyer\": \"IBM\",\n",
      "    \"date\": \"9-Jul-2019\"\n",
      "}\n"
     ]
    }
   ],
   "source": [
    "write_order_to_json(\"RED HAT\", 1, 34_000_000_000, 'IBM', '9-Jul-2019')\n",
    "\n",
    "with open('orders.json') as to_read:\n",
    "    print(to_read.read())"
   ]
  },
  {
   "cell_type": "markdown",
   "metadata": {},
   "source": [
    "Задание на закрепление знаний по модулю yaml. Написать скрипт, автоматизирующий сохранение данных в файле YAML-формата. Для этого:\n",
    "1. Подготовить данные для записи в виде словаря, в котором первому ключу соответствует список, второму — целое число, третьему — вложенный словарь, где значение каждого ключа — это целое число с юникод-символом, отсутствующим в кодировке ASCII (например, €);\n",
    "2. Реализовать сохранение данных в файл формата YAML — например, в файл file.yaml. При этом обеспечить стилизацию файла с помощью параметра default_flow_style, а также установить возможность работы с юникодом: allow_unicode = True;\n",
    "3. Реализовать считывание данных из созданного файла и проверить, совпадают ли они с исходными."
   ]
  },
  {
   "cell_type": "code",
   "execution_count": 53,
   "metadata": {},
   "outputs": [
    {
     "data": {
      "text/plain": [
       "{'Numbers': [0, 1, 2, 4, 5, 6, 7, 8, 9],\n",
       " 'Number': 1587458,\n",
       " 'Symbols': {'Euro': '8364€',\n",
       "  'Tugric': '8366₮',\n",
       "  'Rubl': '8381₽',\n",
       "  'Bitcoin': '8383₿'}}"
      ]
     },
     "execution_count": 53,
     "metadata": {},
     "output_type": "execute_result"
    }
   ],
   "source": [
    "dict_for_yaml = {\n",
    "    'Numbers': [0, 1, 2, 4, 5, 6, 7, 8, 9],\n",
    "    'Number' : 1587458,\n",
    "    'Symbols' : {\"Euro\": '8364€',\n",
    "                \"Tugric\":'8366₮',\n",
    "                \"Rubl\":'8381₽',\n",
    "                \"Bitcoin\":'8383₿'\n",
    "                }\n",
    "}\n",
    "dict_for_yaml"
   ]
  },
  {
   "cell_type": "code",
   "execution_count": 54,
   "metadata": {},
   "outputs": [
    {
     "name": "stdout",
     "output_type": "stream",
     "text": [
      "Numbers:\n",
      "- 0\n",
      "- 1\n",
      "- 2\n",
      "- 4\n",
      "- 5\n",
      "- 6\n",
      "- 7\n",
      "- 8\n",
      "- 9\n",
      "Number: 1587458\n",
      "Symbols:\n",
      "  Euro: 8364€\n",
      "  Tugric: 8366₮\n",
      "  Rubl: 8381₽\n",
      "  Bitcoin: 8383₿\n",
      "\n",
      "True\n",
      "{'Numbers': [0, 1, 2, 4, 5, 6, 7, 8, 9], 'Number': 1587458, 'Symbols': {'Euro': '8364€', 'Tugric': '8366₮', 'Rubl': '8381₽', 'Bitcoin': '8383₿'}}\n"
     ]
    }
   ],
   "source": [
    "with open('file.yaml', 'w', encoding = 'utf-8' ) as to_write:\n",
    "    yaml.dump(dict_for_yaml, to_write, default_flow_style=False, allow_unicode = True, sort_keys=False)\n",
    "    \n",
    "with open('file.yaml',encoding = 'utf-8' ) as to_read:\n",
    "    print(to_read.read())\n",
    "    \n",
    "with open('file.yaml',encoding = 'utf-8' ) as to_read:    \n",
    "    a = yaml.load(to_read)\n",
    "print(dict_for_yaml == a)\n",
    "print(a)"
   ]
  },
  {
   "cell_type": "code",
   "execution_count": null,
   "metadata": {},
   "outputs": [],
   "source": []
  }
 ],
 "metadata": {
  "kernelspec": {
   "display_name": "Python 3",
   "language": "python",
   "name": "python3"
  },
  "language_info": {
   "codemirror_mode": {
    "name": "ipython",
    "version": 3
   },
   "file_extension": ".py",
   "mimetype": "text/x-python",
   "name": "python",
   "nbconvert_exporter": "python",
   "pygments_lexer": "ipython3",
   "version": "3.7.1"
  }
 },
 "nbformat": 4,
 "nbformat_minor": 2
}
