{
 "cells": [
  {
   "cell_type": "markdown",
   "metadata": {},
   "source": [
    "# Практическая работа. Урок  1."
   ]
  },
  {
   "cell_type": "markdown",
   "metadata": {},
   "source": [
    "1. Каждое из слов «разработка», «сокет», «декоратор» представить в строковом формате и проверить тип и содержание соответствующих переменных. Затем с помощью онлайн-конвертера преобразовать строковые представление в формат Unicode и также проверить тип и содержимое переменных."
   ]
  },
  {
   "cell_type": "code",
   "execution_count": 1,
   "metadata": {},
   "outputs": [],
   "source": [
    "list_string = ['разработка', 'сокет', 'декоратор']\n",
    "for i in list_string:\n",
    "    print(f'{i:<10} --- {type(i)}')"
   ]
  },
  {
   "cell_type": "code",
   "execution_count": 2,
   "metadata": {},
   "outputs": [],
   "source": [
    "list_bytes = [i.encode(encoding='utf-8') for i in list_string]\n",
    "for i in list_bytes:\n",
    "    print(f'{i} --- {type(i)}')"
   ]
  },
  {
   "cell_type": "markdown",
   "metadata": {},
   "source": [
    "2. Каждое из слов «class», «function», «method» записать в байтовом типе без преобразования в последовательность кодов (не используя методы encode и decode) и определить тип, содержимое и длину соответствующих переменных."
   ]
  },
  {
   "cell_type": "code",
   "execution_count": 3,
   "metadata": {},
   "outputs": [],
   "source": [
    "list_string = ['class', 'function', 'method']\n",
    "list_bytes = [bytes(i,'utf-8') for i in list_string]\n",
    "for i in list_bytes:\n",
    "    print(f'{i} --- {type(i)}---{len(i)}')"
   ]
  },
  {
   "cell_type": "markdown",
   "metadata": {},
   "source": [
    "3. Определить, какие из слов «attribute», «класс», «функция», «type» невозможно записать в байтовом типе."
   ]
  },
  {
   "cell_type": "code",
   "execution_count": 4,
   "metadata": {},
   "outputs": [
    {
     "name": "stdout",
     "output_type": "stream",
     "text": [
      "\"attribute\" is posibble to convert to bytes.\n",
      "\"класс\" is imposibble to convert to bytes.\n",
      "\"функция\" is imposibble to convert to bytes.\n",
      "\"type\" is posibble to convert to bytes.\n"
     ]
    }
   ],
   "source": [
    "list_string = ['attribute', 'класс', 'функция', 'type']\n",
    "for i in list_string:\n",
    "    try: \n",
    "        bytes(i,'latin-1')\n",
    "        print(f'\"{i}\" is posibble to convert to bytes.')\n",
    "    except UnicodeEncodeError:\n",
    "        print(f'\"{i}\" is imposibble to convert to bytes.')"
   ]
  },
  {
   "cell_type": "markdown",
   "metadata": {},
   "source": [
    "4. Преобразовать слова «разработка», «администрирование», «protocol», «standard» из строкового представления в байтовое и выполнить обратное преобразование (используя методы encode и decode)."
   ]
  },
  {
   "cell_type": "code",
   "execution_count": 5,
   "metadata": {},
   "outputs": [
    {
     "data": {
      "text/plain": [
       "['разработка', 'администрирование', 'protocol', 'standard']"
      ]
     },
     "execution_count": 5,
     "metadata": {},
     "output_type": "execute_result"
    }
   ],
   "source": [
    "list_string = ['разработка', 'администрирование', 'protocol', 'standard']\n",
    "list_bytes = [i.encode(encoding='utf-8') for i in list_string]\n",
    "list_string = [i.decode(encoding='utf-8') for i in list_bytes]\n",
    "list_string"
   ]
  },
  {
   "cell_type": "markdown",
   "metadata": {},
   "source": [
    "5. Выполнить пинг веб-ресурсов yandex.ru, youtube.com и преобразовать результаты из байтовового в строковый тип на кириллице."
   ]
  },
  {
   "cell_type": "code",
   "execution_count": 6,
   "metadata": {},
   "outputs": [
    {
     "name": "stdout",
     "output_type": "stream",
     "text": [
      "\n",
      "\n",
      "Pinging yandex.ru [5.255.255.88] with 32 bytes of data:\n",
      "\n",
      "Reply from 5.255.255.88: bytes=32 time=337ms TTL=48\n",
      "\n",
      "Reply from 5.255.255.88: bytes=32 time=336ms TTL=48\n",
      "\n",
      "Reply from 5.255.255.88: bytes=32 time=336ms TTL=48\n",
      "\n",
      "Reply from 5.255.255.88: bytes=32 time=336ms TTL=48\n",
      "\n",
      "\n",
      "\n",
      "Ping statistics for 5.255.255.88:\n",
      "\n",
      "    Packets: Sent = 4, Received = 4, Lost = 0 (0% loss),\n",
      "\n",
      "Approximate round trip times in milli-seconds:\n",
      "\n",
      "    Minimum = 336ms, Maximum = 337ms, Average = 336ms\n",
      "\n",
      "\n",
      "\n",
      "Pinging youtube.com [216.58.217.206] with 32 bytes of data:\n",
      "\n",
      "Reply from 216.58.217.206: bytes=32 time=165ms TTL=56\n",
      "\n",
      "Reply from 216.58.217.206: bytes=32 time=166ms TTL=56\n",
      "\n",
      "Reply from 216.58.217.206: bytes=32 time=165ms TTL=56\n",
      "\n",
      "Reply from 216.58.217.206: bytes=32 time=165ms TTL=56\n",
      "\n",
      "\n",
      "\n",
      "Ping statistics for 216.58.217.206:\n",
      "\n",
      "    Packets: Sent = 4, Received = 4, Lost = 0 (0% loss),\n",
      "\n",
      "Approximate round trip times in milli-seconds:\n",
      "\n",
      "    Minimum = 165ms, Maximum = 166ms, Average = 165ms\n",
      "\n"
     ]
    }
   ],
   "source": [
    "import subprocess\n",
    "for i in ['yandex.ru', 'youtube.com']:\n",
    "    args = ['ping', i]\n",
    "    subproc_ping = subprocess.Popen(args, stdout=subprocess.PIPE)\n",
    "    for line in subproc_ping.stdout:\n",
    "        print(line.decode('utf-8'))"
   ]
  },
  {
   "cell_type": "markdown",
   "metadata": {},
   "source": [
    "6. Создать текстовый файл test_file.txt, заполнить его тремя строками: «сетевое программирование», «сокет», «декоратор». Проверить кодировку файла по умолчанию. Принудительно открыть файл в формате Unicode и вывести его содержимое."
   ]
  },
  {
   "cell_type": "code",
   "execution_count": 7,
   "metadata": {},
   "outputs": [],
   "source": [
    "my_file = open(\"test_file.txt\", \"w\",encoding='utf-8')\n",
    "for i in ['сетевое программирование','сокет','декоратор']:\n",
    "     my_file.write(i+\"\\n\")\n",
    "my_file.close()"
   ]
  },
  {
   "cell_type": "code",
   "execution_count": 8,
   "metadata": {},
   "outputs": [
    {
     "name": "stdout",
     "output_type": "stream",
     "text": [
      "сетевое программирование\n",
      "\n",
      "сокет\n",
      "\n",
      "декоратор\n",
      "\n"
     ]
    }
   ],
   "source": [
    "my_file = open(\"test_file.txt\", \"r\",encoding='utf-8')\n",
    "for i in my_file:\n",
    "    print(i)\n",
    "my_file.close()"
   ]
  },
  {
   "cell_type": "code",
   "execution_count": null,
   "metadata": {},
   "outputs": [],
   "source": []
  },
  {
   "cell_type": "code",
   "execution_count": null,
   "metadata": {},
   "outputs": [],
   "source": []
  }
 ],
 "metadata": {
  "kernelspec": {
   "display_name": "Python 3",
   "language": "python",
   "name": "python3"
  },
  "language_info": {
   "codemirror_mode": {
    "name": "ipython",
    "version": 3
   },
   "file_extension": ".py",
   "mimetype": "text/x-python",
   "name": "python",
   "nbconvert_exporter": "python",
   "pygments_lexer": "ipython3",
   "version": "3.7.1"
  }
 },
 "nbformat": 4,
 "nbformat_minor": 2
}
